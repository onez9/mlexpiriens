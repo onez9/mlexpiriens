{
  "nbformat": 4,
  "nbformat_minor": 0,
  "metadata": {
    "colab": {
      "provenance": [],
      "mount_file_id": "1KrRUNJwFxBnDL9JpHJuvA2x6YgO65kJV",
      "authorship_tag": "ABX9TyPwR6aCJI8VzTXcG18d2QVX",
      "include_colab_link": true
    },
    "kernelspec": {
      "name": "python3",
      "display_name": "Python 3"
    },
    "language_info": {
      "name": "python"
    }
  },
  "cells": [
    {
      "cell_type": "markdown",
      "metadata": {
        "id": "view-in-github",
        "colab_type": "text"
      },
      "source": [
        "<a href=\"https://colab.research.google.com/github/onez9/mlexpiriens/blob/main/Untitled1.ipynb\" target=\"_parent\"><img src=\"https://colab.research.google.com/assets/colab-badge.svg\" alt=\"Open In Colab\"/></a>"
      ]
    },
    {
      "cell_type": "code",
      "execution_count": 40,
      "metadata": {
        "colab": {
          "base_uri": "https://localhost:8080/"
        },
        "id": "daWtyTTf2hGf",
        "outputId": "39041241-2301-406c-a4be-9199322ca528"
      },
      "outputs": [
        {
          "output_type": "stream",
          "name": "stdout",
          "text": [
            "tensorflow: 2.15.0\n",
            "keras: 2.15.0\n",
            "numpy: 1.25.2\n",
            "sklearn: 1.2.2\n"
          ]
        }
      ],
      "source": [
        "import tensorflow as tf\n",
        "import keras\n",
        "import sklearn\n",
        "from sklearn.ensemble import RandomForestClassifier\n",
        "import numpy as np\n",
        "from zipfile import ZipFile\n",
        "import os\n",
        "# from skimage.data import imread\n",
        "import matplotlib.pyplot as plt\n",
        "import skimage\n",
        "print(f'tensorflow: {tf.__version__}')\n",
        "print(f'keras: {keras.__version__}')\n",
        "print(f'numpy: {np.__version__}')\n",
        "print(f'sklearn: {sklearn.__version__}')\n",
        "# print(f'os: {os.__version__}')\n"
      ]
    },
    {
      "cell_type": "code",
      "source": [
        "file_name='mnist_train_small.csv'\n",
        "with open(file_name, \"r\") as fi:\n",
        "  txt = fi.read()\n",
        "  print(txt)"
      ],
      "metadata": {
        "colab": {
          "base_uri": "https://localhost:8080/"
        },
        "id": "YIeZvjl-SbbO",
        "outputId": "c4cffc3e-6030-41db-9d80-5bec444e513d"
      },
      "execution_count": 22,
      "outputs": [
        {
          "output_type": "stream",
          "name": "stderr",
          "text": [
            "IOPub data rate exceeded.\n",
            "The notebook server will temporarily stop sending output\n",
            "to the client in order to avoid crashing it.\n",
            "To change this limit, set the config variable\n",
            "`--NotebookApp.iopub_data_rate_limit`.\n",
            "\n",
            "Current values:\n",
            "NotebookApp.iopub_data_rate_limit=1000000.0 (bytes/sec)\n",
            "NotebookApp.rate_limit_window=3.0 (secs)\n",
            "\n"
          ]
        }
      ]
    },
    {
      "cell_type": "code",
      "source": [
        "file_name = 'drive/MyDrive/BelgiumTSC_Testing.zip'\n",
        "with ZipFile(file_name, 'r') as zip:\n",
        "  zip.extractall()\n",
        "  print('Extract testing is done')\n",
        "\n",
        "file_name = 'drive/MyDrive/BelgiumTSC_Training.zip'\n",
        "with ZipFile(file_name, 'r') as zip:\n",
        "  zip.extractall()\n",
        "  print('Extract training is done')"
      ],
      "metadata": {
        "colab": {
          "base_uri": "https://localhost:8080/"
        },
        "id": "J0e6INKHTKMI",
        "outputId": "f74f6ee9-c172-4bfa-f843-7d4e87140360"
      },
      "execution_count": 26,
      "outputs": [
        {
          "output_type": "stream",
          "name": "stdout",
          "text": [
            "Extract testing is done\n",
            "Extract training is done\n"
          ]
        }
      ]
    },
    {
      "cell_type": "code",
      "source": [
        "\n",
        "\n",
        "\n",
        "\n",
        "config = tf.compat.v1.ConfigProto(log_device_placement = True)\n",
        "config = tf.compat.v1.ConfigProto(allow_soft_placement = True)\n",
        "\n",
        "\n",
        "# initialize session and run result\n",
        "with tf.compat.v1.Session() as sess:\n",
        "  x1 = tf.constant([1,2,3,4])\n",
        "  x2 = tf.constant([5,6,7,8])\n",
        "\n",
        "\n",
        "  result = tf.multiply(x1, x2)\n",
        "  print(result)\n",
        "  output = sess.run(result)\n",
        "  print(output)"
      ],
      "metadata": {
        "colab": {
          "base_uri": "https://localhost:8080/"
        },
        "id": "_izhJexS3EWX",
        "outputId": "dc7497b2-53e1-4ad5-e63f-4f357066fa5f"
      },
      "execution_count": 27,
      "outputs": [
        {
          "output_type": "stream",
          "name": "stdout",
          "text": [
            "Tensor(\"Mul_4:0\", shape=(4,), dtype=int32)\n",
            "[ 5 12 21 32]\n"
          ]
        }
      ]
    },
    {
      "cell_type": "code",
      "source": [
        "\n",
        "\n",
        "def load_data(data_directory):\n",
        "  directories = [d for d in os.listdir(data_directory)\n",
        "                  if os.path.isdir(os.path.join(data_directory, d))]\n",
        "\n",
        "  labels = []\n",
        "  images = []\n",
        "  for d in directories:\n",
        "    label_directory = os.path.join(data_directory, d)\n",
        "    file_names = [os.path.join(label_directory, f)\n",
        "      for f in os.listdir(label_directory)\n",
        "        if f.endswith('.ppm')]\n",
        "    for f in file_names:\n",
        "      images.append(skimage.io.imread(f))\n",
        "      labels.append(int(d))\n",
        "    return images, labels\n",
        "\n",
        "train_data_directory = \"Training\"\n",
        "test_data_directory = \"Testing\"\n",
        "\n",
        "images, labels = load_data(train_data_directory)\n"
      ],
      "metadata": {
        "id": "LaoMnj20WYHR"
      },
      "execution_count": 42,
      "outputs": []
    },
    {
      "cell_type": "code",
      "source": [
        "images = np.array(images, dtype=object)\n",
        "print(images.size) # вывести количество элементов массива\n",
        "print(images.ndim) # размерность массива\n",
        "\n",
        "labels = np.array(labels)\n",
        "print(len(labels))\n",
        "# images[2]"
      ],
      "metadata": {
        "colab": {
          "base_uri": "https://localhost:8080/"
        },
        "id": "2e5OD4Zai79T",
        "outputId": "a87113ff-5544-4686-d30c-39a35e6a9633"
      },
      "execution_count": 51,
      "outputs": [
        {
          "output_type": "stream",
          "name": "stdout",
          "text": [
            "95\n",
            "1\n",
            "95\n"
          ]
        }
      ]
    },
    {
      "cell_type": "code",
      "source": [
        "plt.hist(labels, 95)\n",
        "plt.show()"
      ],
      "metadata": {
        "colab": {
          "base_uri": "https://localhost:8080/",
          "height": 430
        },
        "id": "qhy_KiLeqb4t",
        "outputId": "6a30c3c7-e64b-40db-9426-63db7324aed0"
      },
      "execution_count": 53,
      "outputs": [
        {
          "output_type": "display_data",
          "data": {
            "text/plain": [
              "<Figure size 640x480 with 1 Axes>"
            ],
            "image/png": "[encoded data removed]"
          },
          "metadata": {}
        }
      ]
    }
  ]
}