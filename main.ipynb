{
  "nbformat": 4,
  "nbformat_minor": 0,
  "metadata": {
    "colab": {
      "provenance": [],
      "mount_file_id": "1KrRUNJwFxBnDL9JpHJuvA2x6YgO65kJV",
      "authorship_tag": "ABX9TyMx4bJvZsexle8psHfqqcPh",
      "include_colab_link": true
    },
    "kernelspec": {
      "name": "python3",
      "display_name": "Python 3"
    },
    "language_info": {
      "name": "python"
    }
  },
  "cells": [
    {
      "cell_type": "markdown",
      "metadata": {
        "id": "view-in-github",
        "colab_type": "text"
      },
      "source": [
        "<a href=\"https://colab.research.google.com/github/onez9/mlexpiriens/blob/main/main.ipynb\" target=\"_parent\"><img src=\"https://colab.research.google.com/assets/colab-badge.svg\" alt=\"Open In Colab\"/></a>"
      ]
    },
    {
      "cell_type": "code",
      "execution_count": null,
      "metadata": {
        "colab": {
          "base_uri": "https://localhost:8080/"
        },
        "id": "daWtyTTf2hGf",
        "outputId": "dc4aae68-1062-4e15-a262-67f7aa4684a3"
      },
      "outputs": [
        {
          "output_type": "stream",
          "name": "stdout",
          "text": [
            "tensorflow: 2.15.0\n",
            "keras: 2.15.0\n",
            "numpy: 1.23.1\n",
            "sklearn: 1.2.2\n"
          ]
        }
      ],
      "source": [
        "import tensorflow as tf\n",
        "import keras\n",
        "import sklearn\n",
        "from sklearn.ensemble import RandomForestClassifier\n",
        "import numpy as np\n",
        "from zipfile import ZipFile\n",
        "import os\n",
        "# from skimage.data import imread\n",
        "import matplotlib.pyplot as plt\n",
        "import skimage\n",
        "# import pixellib\n",
        "from pixellib.instance import instance_segmentation\n",
        "\n",
        "\n",
        "print(f'tensorflow: {tf.__version__}')\n",
        "print(f'keras: {keras.__version__}')\n",
        "print(f'numpy: {np.__version__}')\n",
        "print(f'sklearn: {sklearn.__version__}')\n",
        "# print(f'os: {os.__version__}')\n"
      ]
    },
    {
      "cell_type": "code",
      "source": [
        "file_name='mnist_train_small.csv'\n",
        "with open(file_name, \"r\") as fi:\n",
        "  txt = fi.read()\n",
        "  print(txt)"
      ],
      "metadata": {
        "id": "YIeZvjl-SbbO"
      },
      "execution_count": null,
      "outputs": []
    },
    {
      "cell_type": "code",
      "source": [
        "file_name = 'drive/MyDrive/BelgiumTSC_Testing.zip'\n",
        "with ZipFile(file_name, 'r') as zip:\n",
        "  zip.extractall()\n",
        "  print('Extract testing is done')\n",
        "\n",
        "file_name = 'drive/MyDrive/BelgiumTSC_Training.zip'\n",
        "with ZipFile(file_name, 'r') as zip:\n",
        "  zip.extractall()\n",
        "  print('Extract training is done')"
      ],
      "metadata": {
        "colab": {
          "base_uri": "https://localhost:8080/"
        },
        "id": "J0e6INKHTKMI",
        "outputId": "6fbf72c3-8708-4afa-c82a-d800fe9cd350"
      },
      "execution_count": null,
      "outputs": [
        {
          "output_type": "stream",
          "name": "stdout",
          "text": [
            "Extract testing is done\n",
            "Extract training is done\n"
          ]
        }
      ]
    },
    {
      "cell_type": "code",
      "source": [
        "\n",
        "\n",
        "\n",
        "\n",
        "config = tf.compat.v1.ConfigProto(log_device_placement = True)\n",
        "config = tf.compat.v1.ConfigProto(allow_soft_placement = True)\n",
        "\n",
        "\n",
        "# initialize session and run result\n",
        "with tf.compat.v1.Session() as sess:\n",
        "  x1 = tf.constant([1,2,3,4])\n",
        "  x2 = tf.constant([5,6,7,8])\n",
        "\n",
        "\n",
        "  result = tf.multiply(x1, x2)\n",
        "  print(result)\n",
        "  output = sess.run(result)\n",
        "  print(output)"
      ],
      "metadata": {
        "id": "_izhJexS3EWX"
      },
      "execution_count": null,
      "outputs": []
    },
    {
      "cell_type": "code",
      "source": [
        "\n",
        "\n",
        "def load_data(data_directory):\n",
        "  directories = [d for d in os.listdir(data_directory)\n",
        "                  if os.path.isdir(os.path.join(data_directory, d))]\n",
        "  print(directories)\n",
        "  labels = []\n",
        "  images = []\n",
        "  for d in directories:\n",
        "    label_directory = os.path.join(data_directory, d)\n",
        "    print(label_directory)\n",
        "    file_names = [os.path.join(label_directory, f) for f in os.listdir(label_directory)\n",
        "        if f.endswith('.ppm')]\n",
        "    print(file_names)\n",
        "    for f in file_names:\n",
        "      images.append(skimage.io.imread(f))\n",
        "      labels.append(int(d))\n",
        "    return images, labels\n",
        "\n",
        "train_data_directory = \"Training\"\n",
        "test_data_directory = \"Testing\"\n",
        "\n",
        "# images, labels = load_data(train_data_directory)\n",
        "images, labels = load_data(train_data_directory)"
      ],
      "metadata": {
        "id": "LaoMnj20WYHR"
      },
      "execution_count": null,
      "outputs": []
    },
    {
      "cell_type": "code",
      "source": [
        "images = np.array(images, dtype=list)\n",
        "print(images.size) # вывести количество элементов массива\n",
        "print(images.ndim) # размерность массива\n",
        "\n",
        "labels = np.array(labels)\n",
        "print(len(labels))\n",
        "# images[2]\n",
        "print(len(set(labels)))"
      ],
      "metadata": {
        "id": "2e5OD4Zai79T"
      },
      "execution_count": null,
      "outputs": []
    },
    {
      "cell_type": "code",
      "source": [
        "plt.hist(labels, 62)\n",
        "plt.show()"
      ],
      "metadata": {
        "id": "qhy_KiLeqb4t"
      },
      "execution_count": null,
      "outputs": []
    },
    {
      "cell_type": "code",
      "source": [
        "# Import the `pyplot` module of `matplotlib`\n",
        "import matplotlib.pyplot as plt\n",
        "\n",
        "# Determine the (random) indexes of the images that you want to see\n",
        "traffic_signs = [30, 22, 50, 40]\n",
        "\n",
        "# Fill out the subplots with the random images that you defined\n",
        "for i in range(len(traffic_signs)):\n",
        "    plt.subplot(1, 4, i+1)\n",
        "    plt.axis('off')\n",
        "    plt.imshow(images[traffic_signs[i]])\n",
        "    plt.subplots_adjust(wspace=0.5)\n",
        "\n",
        "plt.show()"
      ],
      "metadata": {
        "colab": {
          "base_uri": "https://localhost:8080/",
          "height": 676
        },
        "id": "B8lI4Lmh8W7Z",
        "outputId": "cf92d02f-e08c-4619-a126-36d445d130dc"
      },
      "execution_count": null,
      "outputs": [
        {
          "output_type": "error",
          "ename": "TypeError",
          "evalue": "'str' object is not callable",
          "traceback": [
            "\u001b[0;31m---------------------------------------------------------------------------\u001b[0m",
            "\u001b[0;31mTypeError\u001b[0m                                 Traceback (most recent call last)",
            "\u001b[0;32m<ipython-input-32-0f611a0dda98>\u001b[0m in \u001b[0;36m<cell line: 8>\u001b[0;34m()\u001b[0m\n\u001b[1;32m      8\u001b[0m \u001b[0;32mfor\u001b[0m \u001b[0mi\u001b[0m \u001b[0;32min\u001b[0m \u001b[0mrange\u001b[0m\u001b[0;34m(\u001b[0m\u001b[0mlen\u001b[0m\u001b[0;34m(\u001b[0m\u001b[0mtraffic_signs\u001b[0m\u001b[0;34m)\u001b[0m\u001b[0;34m)\u001b[0m\u001b[0;34m:\u001b[0m\u001b[0;34m\u001b[0m\u001b[0;34m\u001b[0m\u001b[0m\n\u001b[1;32m      9\u001b[0m     \u001b[0mplt\u001b[0m\u001b[0;34m.\u001b[0m\u001b[0msubplot\u001b[0m\u001b[0;34m(\u001b[0m\u001b[0;36m1\u001b[0m\u001b[0;34m,\u001b[0m \u001b[0;36m4\u001b[0m\u001b[0;34m,\u001b[0m \u001b[0mi\u001b[0m\u001b[0;34m+\u001b[0m\u001b[0;36m1\u001b[0m\u001b[0;34m)\u001b[0m\u001b[0;34m\u001b[0m\u001b[0;34m\u001b[0m\u001b[0m\n\u001b[0;32m---> 10\u001b[0;31m     \u001b[0mplt\u001b[0m\u001b[0;34m.\u001b[0m\u001b[0maxis\u001b[0m\u001b[0;34m(\u001b[0m\u001b[0;34m'off'\u001b[0m\u001b[0;34m)\u001b[0m\u001b[0;34m\u001b[0m\u001b[0;34m\u001b[0m\u001b[0m\n\u001b[0m\u001b[1;32m     11\u001b[0m     \u001b[0mplt\u001b[0m\u001b[0;34m.\u001b[0m\u001b[0mimshow\u001b[0m\u001b[0;34m(\u001b[0m\u001b[0mimages\u001b[0m\u001b[0;34m[\u001b[0m\u001b[0mtraffic_signs\u001b[0m\u001b[0;34m[\u001b[0m\u001b[0mi\u001b[0m\u001b[0;34m]\u001b[0m\u001b[0;34m]\u001b[0m\u001b[0;34m)\u001b[0m\u001b[0;34m\u001b[0m\u001b[0;34m\u001b[0m\u001b[0m\n\u001b[1;32m     12\u001b[0m     \u001b[0mplt\u001b[0m\u001b[0;34m.\u001b[0m\u001b[0msubplots_adjust\u001b[0m\u001b[0;34m(\u001b[0m\u001b[0mwspace\u001b[0m\u001b[0;34m=\u001b[0m\u001b[0;36m0.5\u001b[0m\u001b[0;34m)\u001b[0m\u001b[0;34m\u001b[0m\u001b[0;34m\u001b[0m\u001b[0m\n",
            "\u001b[0;31mTypeError\u001b[0m: 'str' object is not callable"
          ]
        },
        {
          "output_type": "display_data",
          "data": {
            "text/plain": [
              "<Figure size 640x480 with 1 Axes>"
            ],
            "image/png": "[encoded data removed]"
          },
          "metadata": {}
        }
      ]
    },
    {
      "cell_type": "code",
      "source": [
        "def object_detection_on_an_image():\n",
        "  segment_image = instance_segmentation()\n",
        "  pathmodel = \"drive/MyDrive/mask_rcnn_coco.h5\"\n",
        "  segment_image.load_model(pathmodel)\n",
        "\n",
        "\n",
        "  segment_image.segmentImage(\n",
        "      image_path='40.jpg',\n",
        "      show_bboxes=True,\n",
        "      output_image_name='output.jpg'\n",
        "  )\n",
        "\n",
        "def main():\n",
        "  object_detection_on_an_image()\n",
        "\n",
        "# if __name__=='__main__':\n",
        "main()"
      ],
      "metadata": {
        "id": "NNOrr5zMUgyB"
      },
      "execution_count": null,
      "outputs": []
    },
    {
      "cell_type": "code",
      "source": [
        "# plt.subplot(1,1,1)\n",
        "# plt.axis('off')\n",
        "import matplotlib.pyplot as plt\n",
        "plt.axis('off')\n",
        "plt.imshow(skimage.io.imread(\"output.jpg\"))\n",
        "plt.subplots_adjust(wspace=0.5)\n",
        "plt.show()\n",
        "print('2343')\n",
        "# plt.imshow(skimage.io.imread(\"40.jpg\"))"
      ],
      "metadata": {
        "colab": {
          "base_uri": "https://localhost:8080/"
        },
        "id": "EDKlLWIBecQH",
        "outputId": "17c73fa5-7be1-4ea1-b690-8ec05f7e37b1"
      },
      "execution_count": null,
      "outputs": [
        {
          "output_type": "error",
          "ename": "NameError",
          "evalue": "name 'skimage' is not defined",
          "traceback": [
            "\u001b[0;31m---------------------------------------------------------------------------\u001b[0m",
            "\u001b[0;31mNameError\u001b[0m                                 Traceback (most recent call last)",
            "\u001b[0;32m<ipython-input-1-0ab0c52de140>\u001b[0m in \u001b[0;36m<cell line: 5>\u001b[0;34m()\u001b[0m\n\u001b[1;32m      3\u001b[0m \u001b[0;32mimport\u001b[0m \u001b[0mmatplotlib\u001b[0m\u001b[0;34m.\u001b[0m\u001b[0mpyplot\u001b[0m \u001b[0;32mas\u001b[0m \u001b[0mplt\u001b[0m\u001b[0;34m\u001b[0m\u001b[0;34m\u001b[0m\u001b[0m\n\u001b[1;32m      4\u001b[0m \u001b[0mplt\u001b[0m\u001b[0;34m.\u001b[0m\u001b[0maxis\u001b[0m\u001b[0;34m(\u001b[0m\u001b[0;34m'off'\u001b[0m\u001b[0;34m)\u001b[0m\u001b[0;34m\u001b[0m\u001b[0;34m\u001b[0m\u001b[0m\n\u001b[0;32m----> 5\u001b[0;31m \u001b[0mplt\u001b[0m\u001b[0;34m.\u001b[0m\u001b[0mimshow\u001b[0m\u001b[0;34m(\u001b[0m\u001b[0mskimage\u001b[0m\u001b[0;34m.\u001b[0m\u001b[0mio\u001b[0m\u001b[0;34m.\u001b[0m\u001b[0mimread\u001b[0m\u001b[0;34m(\u001b[0m\u001b[0;34m\"output.jpg\"\u001b[0m\u001b[0;34m)\u001b[0m\u001b[0;34m)\u001b[0m\u001b[0;34m\u001b[0m\u001b[0;34m\u001b[0m\u001b[0m\n\u001b[0m\u001b[1;32m      6\u001b[0m \u001b[0mplt\u001b[0m\u001b[0;34m.\u001b[0m\u001b[0msubplots_adjust\u001b[0m\u001b[0;34m(\u001b[0m\u001b[0mwspace\u001b[0m\u001b[0;34m=\u001b[0m\u001b[0;36m0.5\u001b[0m\u001b[0;34m)\u001b[0m\u001b[0;34m\u001b[0m\u001b[0;34m\u001b[0m\u001b[0m\n\u001b[1;32m      7\u001b[0m \u001b[0mplt\u001b[0m\u001b[0;34m.\u001b[0m\u001b[0mshow\u001b[0m\u001b[0;34m(\u001b[0m\u001b[0;34m)\u001b[0m\u001b[0;34m\u001b[0m\u001b[0;34m\u001b[0m\u001b[0m\n",
            "\u001b[0;31mNameError\u001b[0m: name 'skimage' is not defined"
          ]
        },
        {
          "output_type": "display_data",
          "data": {
            "text/plain": [
              "<Figure size 640x480 with 1 Axes>"
            ],
            "image/png": "[encoded data removed]"
          },
          "metadata": {}
        }
      ]
    },
    {
      "cell_type": "code",
      "source": [
        "!pip3 install mxnet-mkl numpy"
      ],
      "metadata": {
        "colab": {
          "base_uri": "https://localhost:8080/"
        },
        "id": "7EyRQ8ewhkzT",
        "outputId": "bbc08b96-ac8e-439a-a5b0-01d751c3f493"
      },
      "execution_count": null,
      "outputs": [
        {
          "output_type": "stream",
          "name": "stdout",
          "text": [
            "Collecting mxnet-mkl\n",
            "  Using cached mxnet_mkl-1.6.0-py2.py3-none-manylinux1_x86_64.whl (76.7 MB)\n",
            "Collecting numpy\n",
            "  Downloading numpy-1.26.4-cp310-cp310-manylinux_2_17_x86_64.manylinux2014_x86_64.whl (18.2 MB)\n",
            "\u001b[2K     \u001b[90m━━━━━━━━━━━━━━━━━━━━━━━━━━━━━━━━━━━━━━━━\u001b[0m \u001b[32m18.2/18.2 MB\u001b[0m \u001b[31m18.4 MB/s\u001b[0m eta \u001b[36m0:00:00\u001b[0m\n",
            "\u001b[?25hRequirement already satisfied: requests<3,>=2.20.0 in /usr/local/lib/python3.10/dist-packages (from mxnet-mkl) (2.31.0)\n",
            "Requirement already satisfied: graphviz<0.9.0,>=0.8.1 in /usr/local/lib/python3.10/dist-packages (from mxnet-mkl) (0.8.4)\n",
            "Requirement already satisfied: charset-normalizer<4,>=2 in /usr/local/lib/python3.10/dist-packages (from requests<3,>=2.20.0->mxnet-mkl) (3.3.2)\n",
            "Requirement already satisfied: idna<4,>=2.5 in /usr/local/lib/python3.10/dist-packages (from requests<3,>=2.20.0->mxnet-mkl) (3.6)\n",
            "Requirement already satisfied: urllib3<3,>=1.21.1 in /usr/local/lib/python3.10/dist-packages (from requests<3,>=2.20.0->mxnet-mkl) (2.0.7)\n",
            "Requirement already satisfied: certifi>=2017.4.17 in /usr/local/lib/python3.10/dist-packages (from requests<3,>=2.20.0->mxnet-mkl) (2024.2.2)\n",
            "Installing collected packages: numpy, mxnet-mkl\n",
            "Successfully installed mxnet-mkl-1.6.0 numpy-1.26.4\n"
          ]
        }
      ]
    },
    {
      "cell_type": "code",
      "source": [
        "import os\n",
        "import numpy as np\n",
        "os.environ['TF_CPP_MIN_LOG_LEVEL'] = '2'\n",
        "import tensorflow as tf\n",
        "print(tf.__version__)\n",
        "\n",
        "if __name__=='__main__':\n",
        "    print('Programm is run')\n",
        "    # константные тензоры (массивы данных)\n",
        "    a = tf.constant(1, shape=(1,1))\n",
        "    b = tf.constant([1,2,3,4])\n",
        "    c = tf.constant([[1,2],\n",
        "                     [3,4],\n",
        "                     [5,6]], dtype=tf.float16)\n",
        "    a1 = tf.cast(a, dtype=tf.float32) # преобразует тензор к новому типу данных\n",
        "    b1 = np.array(b) # преобразовать тензор к типу numpy\n",
        "    b2 = b.numpy()\n",
        "    # print(c,a1,b1,b2,sep='\\n\\n')\n",
        "\n",
        "    # переменные тензоры (массивы данных)\n",
        "    v1 = tf.Variable(-1.5)\n",
        "    v2 = tf.Variable([7,3,5,6], dtype=tf.float32)\n",
        "    v3 = tf.Variable(b) # создаём переменный тензор на основе константных значений\n",
        "\n",
        "    v4 = tf.Variable(v1) # cпособ клонирования переменных тензоров\n",
        "    # print(v1,v2,v3,sep='\\n\\n')\n",
        "\n",
        "    v2.assign([0,0,0,0]) # назначить новые значения тензору\n",
        "    # print(v2)\n",
        "    v2.assign_sub([3,3,3,3])\n",
        "    # print(v2)\n",
        "    v2.assign_add([1,2,3,4])\n",
        "    # print(v2)\n",
        "\n",
        "    # print('Получение размерности.')\n",
        "    # print(v1.shape)\n",
        "    # print(v2.shape)\n",
        "    # print(v3.shape)\n",
        "    # print(v4.shape)\n",
        "    # print(c.shape)\n",
        "\n",
        "    # print('Срезы')\n",
        "    # переменные val0 и val1 хранят общие области памяти\n",
        "    val0 = v2[2]\n",
        "    val1 = v2[1:3]\n",
        "    # print(val0)\n",
        "    # print(val1)\n",
        "\n",
        "\n",
        "\n",
        "    x = tf.constant(range(10))\n",
        "    x_indx = tf.gather(x, [0,4]) # создали новый тензор на основе x\n",
        "    # print(x, x_indx, sep='\\n')\n",
        "\n",
        "\n",
        "    v7 = tf.constant([[1,2,7],[3,4,8],[5,6,9]])\n",
        "    v7_indx = v7[:2, -1] # -1 - последний столбец\n",
        "    # print(v7_indx)\n",
        "\n",
        "\n",
        "    v8 = tf.constant(range(30)) # будем менять форму у тензора\n",
        "    # print(v8)\n",
        "    # v8_new = tf.reshape(v8, [5,6]) # не создаём нового тензора, а просто поменяли форму\n",
        "    v8_new = tf.reshape(v8, [5,-1])\n",
        "    v8T = tf.transpose(v8_new, perm=[1, 0])\n",
        "    # print(v8_new.numpy())\n",
        "    # print(v8T)\n",
        "\n",
        "    clear = lambda: os.system('clear')\n",
        "    clear()\n",
        "\n",
        "\n"
      ],
      "metadata": {
        "id": "8BlOsjSxL8to"
      },
      "execution_count": null,
      "outputs": []
    },
    {
      "cell_type": "code",
      "source": [
        "# математические операции над тензорами\n",
        "import tensorflow as tf\n",
        "import numpy as np\n",
        "\n",
        "if __name__=='__main__':\n",
        "  a = tf.zeros((3,5))\n",
        "  print(a)\n",
        "\n",
        "  b = tf.ones_like(a) # создаёт новый тензор\n",
        "  print(b)\n",
        "\n",
        "  c = tf.zeros_like(b)\n",
        "  print(c)\n",
        "\n",
        "  d = tf.eye(7, 5) # возвращает тензор с еденицами по главной диагонали\n",
        "  print(d)\n",
        "\n",
        "  e = tf.fill((5, 3), 666) # позволяет заполнить тензор заданным числом\n",
        "  print(e)\n",
        "\n",
        "  f = tf.identity(c) # вроде как клонирует тензор\n",
        "  print(c)\n",
        "  print(f)\n",
        "\n",
        "  g = tf.range(1, 11, 0.5) # from, to, step\n",
        "  g = tf.reshape(g, [5, -1])\n",
        "  g = tf.random.shuffle(g)\n",
        "  print(g)\n",
        "\n",
        "  # 0 - математическое ожидание, 0.1 - среднеквадратичное отклонение\n",
        "  h = tf.random.normal((2,4), 0, 0.1) # возвращает тензор с нормально распределёнными случайными величинами с МО и СКО\n",
        "  # print(h)\n",
        "\n",
        "\n",
        "  # равномерно распределённые значения\n",
        "  i = tf.random.uniform((3,5), -1, 1)\n",
        "  # print(i)\n",
        "\n",
        "\n",
        "  # tf.random.set_seed(1) # устанавливает зерно датчика случайных чисел"
      ],
      "metadata": {
        "id": "jl4i-Pi5LOwE"
      },
      "execution_count": null,
      "outputs": []
    },
    {
      "cell_type": "code",
      "source": [
        "# математические операции над тензорами\n",
        "import tensorflow as tf\n",
        "import numpy as np\n",
        "\n",
        "if __name__=='__main__':\n",
        "  a = tf.constant([[1,2,3],[7,8,9]])\n",
        "  b = tf.constant([[4,5,6],[10,11,12]])\n",
        "  print(a*b) # поэлементные операции\n",
        "  print(tf.multiply(a,b))\n",
        "  print(a/b)\n",
        "  print(tf.divide(a,b))\n",
        "  print(b//a)\n",
        "  # c = tf.Variable(b)\n",
        "  # print(c)\n",
        "  # print(c**2)\n",
        "  b = tf.reshape(b, [3,-1])\n",
        "  print(a)\n",
        "  print(b)\n",
        "  # print(tf.reshape((a-b), [3,2]))\n",
        "\n",
        "  # print(tf.tensordot(a,b, axes=0)) # внешнее векторное умножение в tensorflow\n",
        "\n",
        "  # a = tf.constant([1,2,3])\n",
        "  # b = tf.constant([4,5,6])\n",
        "  # print(a)\n",
        "  # print(b)\n",
        "\n",
        "\n",
        "  print(\"Внутренние векторное переумножение\") # ещё называют скалярным произведением\n",
        "  print(tf.tensordot(b,a, axes=1)) # это типо как в школе, лицее, вузе, ещё одном вузе учили. Тот случай когда порядок важен\n",
        "\n",
        "  a2 = tf.constant(tf.range(1,10), shape=(3,3))\n",
        "  b2 = tf.constant(tf.range(5,14), shape=(3,3))\n",
        "  print(a2)\n",
        "  print(b2)\n",
        "  print(tf.matmul(a2, b2)) # работает также как и @ и tf.tensordot # тоже какое-то матричное умножение\n",
        "  print(a2 @ b2)\n",
        "  result = tf.tensordot(a2,b2,axes=1)\n",
        "  print(result)\n",
        "\n",
        "  # получить сумму элементов tensora\n",
        "  print(tf.reduce_sum(result))\n",
        "  print(tf.reduce_sum(result, axis=[1, 0]))\n",
        "  print(tf.reduce_sum(tf.constant(tf.range(1,10), shape=(3,3))))\n",
        "\n",
        "  # получить сумму по столбцам\n",
        "  print(tf.reduce_sum(result, axis=0))\n",
        "\n",
        "  # получить сумму по строкам\n",
        "  print(tf.reduce_sum(result, axis=1))\n",
        "\n",
        "\n",
        "  # получить среднее арифметическое от значения тензора\n",
        "  print(result)\n",
        "  print(tf.reduce_mean(result))\n",
        "\n",
        "  # получить минимальное или максимальное значение в тензоре\n",
        "  print(tf.reduce_min(result))\n",
        "  print(tf.reduce_max(result))\n",
        "  # мин макс\n",
        "  # столбцы\n",
        "  print(tf.reduce_min(result, axis=1))\n",
        "  print(tf.reduce_max(result, axis=1))\n",
        "  # строки\n",
        "  print(tf.reduce_min(result, axis=0))\n",
        "  print(tf.reduce_max(result, axis=0))\n",
        "\n",
        "  # произведение по всем элементам\n",
        "  print(tf.reduce_prod(result))\n",
        "\n",
        "  # get sqrt from result\n",
        "  print(tf.sqrt(tf.cast(result, dtype=tf.float32)))\n",
        "\n",
        "  # get square from result\n",
        "  print(tf.square(result))\n",
        "\n",
        "  # get sin\n",
        "  print(tf.sin(tf.range(-3.14, 3.14, 1)))"
      ],
      "metadata": {
        "id": "b6Kv3TynNLMu"
      },
      "execution_count": null,
      "outputs": []
    },
    {
      "cell_type": "code",
      "source": [
        "# реализация автоматического дифференцирования\n",
        "# Задача получить значение производной в точке -2.0\n",
        "import os\n",
        "\n",
        "os.environ['TF_CPP_MIN_LOG_LEVEL']='2'\n",
        "import tensorflow as tf\n",
        "\n",
        "\n",
        "x = tf.Variable(-2.0) # создаём тензор\n",
        "\n",
        "with tf.GradientTape() as tape: # with - мэнаджер контекста # все промежуточные вычисления сохраняются в этом объекте tape\n",
        "  y = x ** 2 # для вот этой функции\n",
        "\n",
        "df = tape.gradient(y, x) # в этом методе выполняется обратный проход по графу вычислений и вычисляет значения производной y по x\n",
        "print(df) # выводим значение производной\n",
        "\n",
        "\n",
        "\n",
        "\n",
        "\n",
        "\n",
        "\n",
        "\n"
      ],
      "metadata": {
        "colab": {
          "base_uri": "https://localhost:8080/"
        },
        "id": "ulUKm4KI9L99",
        "outputId": "32f7c7bc-6e8e-4669-aeb8-4e492cdd0d3f"
      },
      "execution_count": 1,
      "outputs": [
        {
          "output_type": "stream",
          "name": "stdout",
          "text": [
            "tf.Tensor(-4.0, shape=(), dtype=float32)\n"
          ]
        }
      ]
    },
    {
      "cell_type": "code",
      "source": [
        "# реализация автоматического дифференцирования\n",
        "# Задача получить значение производной в точке -2.0\n",
        "import os\n",
        "os.environ['TF_CPP_MIN_LOG_LEVEL']='2'\n",
        "import tensorflow as tf\n",
        "\n",
        "\n",
        "# w = tf.Variable(tf.random.normal((3,2)))\n",
        "# b = tf.Variable(tf.zeros(2, dtype=tf.float32))\n",
        "# x = tf.Variable([[-2.0, 1.0, 3.0]])\n",
        "\n",
        "x = tf.Variable(0, dtype=tf.float32, trainable=True) # можно запретить вычислять производные если добаить аргумент trainable=False\n",
        "# b = tf.constant(1.5) # так производная не будет вычисляться\n",
        "b = tf.Variable(1.5, dtype=tf.float32) + 1.0 # b = tf.Variable(1.5, dtype=tf.float32) + 1.0, если добавим константу (+ 1.0), то b - перестанет быть переменной\n",
        "\n",
        "\n",
        "\n",
        "with tf.GradientTape(watch_accessed_variables=False) as tape: # полностью отключить отслеживание переменных - watch_accessed_variables=False\n",
        "  # with tf.GradientTape() as tape: # tape отслеживает тензоры только с Variable, c constant - нет. Для констан объект tape не производит промежуточных вычислений.\n",
        "  # y = x @ w + b\n",
        "  # loss = tf.reduce_mean(y ** 2)\n",
        "  f = (x + b)**2 + 2*b\n",
        "\n",
        "# df = tape.gradient(loss, [w, b])\n",
        "df = tape.gradient(f, [x, b])\n",
        "print(f'Производная по x: {df[0]}\\nПроизводная по b: {df[1]}')\n",
        "\n",
        "\n"
      ],
      "metadata": {
        "colab": {
          "base_uri": "https://localhost:8080/"
        },
        "id": "SAgsw0vozdRK",
        "outputId": "141cd2cf-2cd3-44ec-ae27-b72878b377cc"
      },
      "execution_count": 21,
      "outputs": [
        {
          "output_type": "stream",
          "name": "stdout",
          "text": [
            "Производная по x: 5.0\n",
            "Производная по b: None\n"
          ]
        }
      ]
    }
  ]
}